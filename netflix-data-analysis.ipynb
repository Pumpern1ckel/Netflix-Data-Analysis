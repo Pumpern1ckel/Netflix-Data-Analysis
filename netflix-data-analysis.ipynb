{
 "cells": [
  {
   "cell_type": "markdown",
   "id": "daf1f1da",
   "metadata": {
    "_cell_guid": "b1076dfc-b9ad-4769-8c92-a6c4dae69d19",
    "_uuid": "8f2839f25d086af736a60e9eeb907d3b93b6e0e5",
    "execution": {
     "iopub.execute_input": "2022-03-17T06:13:02.67621Z",
     "iopub.status.busy": "2022-03-17T06:13:02.675867Z",
     "iopub.status.idle": "2022-03-17T06:13:02.701423Z",
     "shell.execute_reply": "2022-03-17T06:13:02.700693Z",
     "shell.execute_reply.started": "2022-03-17T06:13:02.676122Z"
    },
    "papermill": {
     "duration": 0.020284,
     "end_time": "2022-03-20T01:20:18.447572",
     "exception": false,
     "start_time": "2022-03-20T01:20:18.427288",
     "status": "completed"
    },
    "tags": []
   },
   "source": [
    "# Netflix data EDA"
   ]
  },
  {
   "cell_type": "markdown",
   "id": "d03de139",
   "metadata": {
    "execution": {
     "iopub.execute_input": "2022-03-17T06:13:52.998356Z",
     "iopub.status.busy": "2022-03-17T06:13:52.997619Z",
     "iopub.status.idle": "2022-03-17T06:13:53.003687Z",
     "shell.execute_reply": "2022-03-17T06:13:53.002629Z",
     "shell.execute_reply.started": "2022-03-17T06:13:52.998311Z"
    },
    "papermill": {
     "duration": 0.018162,
     "end_time": "2022-03-20T01:20:18.484952",
     "exception": false,
     "start_time": "2022-03-20T01:20:18.466790",
     "status": "completed"
    },
    "tags": []
   },
   "source": [
    "**importing libraries**"
   ]
  },
  {
   "cell_type": "code",
   "execution_count": 1,
   "id": "20d7268c",
   "metadata": {
    "execution": {
     "iopub.execute_input": "2022-03-20T01:20:18.526532Z",
     "iopub.status.busy": "2022-03-20T01:20:18.525198Z",
     "iopub.status.idle": "2022-03-20T01:20:19.603826Z",
     "shell.execute_reply": "2022-03-20T01:20:19.603119Z",
     "shell.execute_reply.started": "2022-03-20T01:15:22.365293Z"
    },
    "papermill": {
     "duration": 1.100611,
     "end_time": "2022-03-20T01:20:19.604026",
     "exception": false,
     "start_time": "2022-03-20T01:20:18.503415",
     "status": "completed"
    },
    "tags": []
   },
   "outputs": [],
   "source": [
    "import numpy as np\n",
    "import pandas as pd\n",
    "import matplotlib.pyplot as plt\n",
    "import seaborn as sns\n",
    "import os\n",
    "\n",
    "plt.style.use('ggplot')"
   ]
  },
  {
   "cell_type": "code",
   "execution_count": 2,
   "id": "65a4cfce",
   "metadata": {
    "execution": {
     "iopub.execute_input": "2022-03-20T01:20:19.644870Z",
     "iopub.status.busy": "2022-03-20T01:20:19.644113Z",
     "iopub.status.idle": "2022-03-20T01:20:19.666967Z",
     "shell.execute_reply": "2022-03-20T01:20:19.667534Z",
     "shell.execute_reply.started": "2022-03-20T01:15:22.373180Z"
    },
    "papermill": {
     "duration": 0.045089,
     "end_time": "2022-03-20T01:20:19.667716",
     "exception": false,
     "start_time": "2022-03-20T01:20:19.622627",
     "status": "completed"
    },
    "tags": []
   },
   "outputs": [
    {
     "data": {
      "text/plain": [
       "(65, 8)"
      ]
     },
     "execution_count": 2,
     "metadata": {},
     "output_type": "execute_result"
    }
   ],
   "source": [
    "#reading data and checking shape\n",
    "netflix_df = pd.read_csv('../input/netflix-subscription-price-in-different-countries/Netflix subscription fee Dec-2021.csv')\n",
    "netflix_df.shape"
   ]
  },
  {
   "cell_type": "code",
   "execution_count": 3,
   "id": "356fd008",
   "metadata": {
    "execution": {
     "iopub.execute_input": "2022-03-20T01:20:19.709162Z",
     "iopub.status.busy": "2022-03-20T01:20:19.708456Z",
     "iopub.status.idle": "2022-03-20T01:20:19.730670Z",
     "shell.execute_reply": "2022-03-20T01:20:19.731263Z",
     "shell.execute_reply.started": "2022-03-20T01:15:22.393563Z"
    },
    "papermill": {
     "duration": 0.044678,
     "end_time": "2022-03-20T01:20:19.731490",
     "exception": false,
     "start_time": "2022-03-20T01:20:19.686812",
     "status": "completed"
    },
    "tags": []
   },
   "outputs": [
    {
     "data": {
      "text/html": [
       "<div>\n",
       "<style scoped>\n",
       "    .dataframe tbody tr th:only-of-type {\n",
       "        vertical-align: middle;\n",
       "    }\n",
       "\n",
       "    .dataframe tbody tr th {\n",
       "        vertical-align: top;\n",
       "    }\n",
       "\n",
       "    .dataframe thead th {\n",
       "        text-align: right;\n",
       "    }\n",
       "</style>\n",
       "<table border=\"1\" class=\"dataframe\">\n",
       "  <thead>\n",
       "    <tr style=\"text-align: right;\">\n",
       "      <th></th>\n",
       "      <th>Country_code</th>\n",
       "      <th>Country</th>\n",
       "      <th>Total Library Size</th>\n",
       "      <th>No. of TV Shows</th>\n",
       "      <th>No. of Movies</th>\n",
       "      <th>Cost Per Month - Basic ($)</th>\n",
       "      <th>Cost Per Month - Standard ($)</th>\n",
       "      <th>Cost Per Month - Premium ($)</th>\n",
       "    </tr>\n",
       "  </thead>\n",
       "  <tbody>\n",
       "    <tr>\n",
       "      <th>0</th>\n",
       "      <td>ar</td>\n",
       "      <td>Argentina</td>\n",
       "      <td>4760</td>\n",
       "      <td>3154</td>\n",
       "      <td>1606</td>\n",
       "      <td>3.74</td>\n",
       "      <td>6.30</td>\n",
       "      <td>9.26</td>\n",
       "    </tr>\n",
       "    <tr>\n",
       "      <th>1</th>\n",
       "      <td>au</td>\n",
       "      <td>Australia</td>\n",
       "      <td>6114</td>\n",
       "      <td>4050</td>\n",
       "      <td>2064</td>\n",
       "      <td>7.84</td>\n",
       "      <td>12.12</td>\n",
       "      <td>16.39</td>\n",
       "    </tr>\n",
       "    <tr>\n",
       "      <th>2</th>\n",
       "      <td>at</td>\n",
       "      <td>Austria</td>\n",
       "      <td>5640</td>\n",
       "      <td>3779</td>\n",
       "      <td>1861</td>\n",
       "      <td>9.03</td>\n",
       "      <td>14.67</td>\n",
       "      <td>20.32</td>\n",
       "    </tr>\n",
       "    <tr>\n",
       "      <th>3</th>\n",
       "      <td>be</td>\n",
       "      <td>Belgium</td>\n",
       "      <td>4990</td>\n",
       "      <td>3374</td>\n",
       "      <td>1616</td>\n",
       "      <td>10.16</td>\n",
       "      <td>15.24</td>\n",
       "      <td>20.32</td>\n",
       "    </tr>\n",
       "    <tr>\n",
       "      <th>4</th>\n",
       "      <td>bo</td>\n",
       "      <td>Bolivia</td>\n",
       "      <td>4991</td>\n",
       "      <td>3155</td>\n",
       "      <td>1836</td>\n",
       "      <td>7.99</td>\n",
       "      <td>10.99</td>\n",
       "      <td>13.99</td>\n",
       "    </tr>\n",
       "    <tr>\n",
       "      <th>5</th>\n",
       "      <td>br</td>\n",
       "      <td>Brazil</td>\n",
       "      <td>4972</td>\n",
       "      <td>3162</td>\n",
       "      <td>1810</td>\n",
       "      <td>4.61</td>\n",
       "      <td>7.11</td>\n",
       "      <td>9.96</td>\n",
       "    </tr>\n",
       "    <tr>\n",
       "      <th>6</th>\n",
       "      <td>bg</td>\n",
       "      <td>Bulgaria</td>\n",
       "      <td>6797</td>\n",
       "      <td>4819</td>\n",
       "      <td>1978</td>\n",
       "      <td>9.03</td>\n",
       "      <td>11.29</td>\n",
       "      <td>13.54</td>\n",
       "    </tr>\n",
       "    <tr>\n",
       "      <th>7</th>\n",
       "      <td>ca</td>\n",
       "      <td>Canada</td>\n",
       "      <td>6239</td>\n",
       "      <td>4311</td>\n",
       "      <td>1928</td>\n",
       "      <td>7.91</td>\n",
       "      <td>11.87</td>\n",
       "      <td>15.03</td>\n",
       "    </tr>\n",
       "    <tr>\n",
       "      <th>8</th>\n",
       "      <td>cl</td>\n",
       "      <td>Chile</td>\n",
       "      <td>4994</td>\n",
       "      <td>3156</td>\n",
       "      <td>1838</td>\n",
       "      <td>7.07</td>\n",
       "      <td>9.91</td>\n",
       "      <td>12.74</td>\n",
       "    </tr>\n",
       "    <tr>\n",
       "      <th>9</th>\n",
       "      <td>co</td>\n",
       "      <td>Colombia</td>\n",
       "      <td>4991</td>\n",
       "      <td>3156</td>\n",
       "      <td>1835</td>\n",
       "      <td>4.31</td>\n",
       "      <td>6.86</td>\n",
       "      <td>9.93</td>\n",
       "    </tr>\n",
       "  </tbody>\n",
       "</table>\n",
       "</div>"
      ],
      "text/plain": [
       "  Country_code    Country  Total Library Size  No. of TV Shows  No. of Movies  \\\n",
       "0           ar  Argentina                4760             3154           1606   \n",
       "1           au  Australia                6114             4050           2064   \n",
       "2           at    Austria                5640             3779           1861   \n",
       "3           be    Belgium                4990             3374           1616   \n",
       "4           bo    Bolivia                4991             3155           1836   \n",
       "5           br     Brazil                4972             3162           1810   \n",
       "6           bg   Bulgaria                6797             4819           1978   \n",
       "7           ca     Canada                6239             4311           1928   \n",
       "8           cl      Chile                4994             3156           1838   \n",
       "9           co   Colombia                4991             3156           1835   \n",
       "\n",
       "   Cost Per Month - Basic ($)  Cost Per Month - Standard ($)  \\\n",
       "0                        3.74                           6.30   \n",
       "1                        7.84                          12.12   \n",
       "2                        9.03                          14.67   \n",
       "3                       10.16                          15.24   \n",
       "4                        7.99                          10.99   \n",
       "5                        4.61                           7.11   \n",
       "6                        9.03                          11.29   \n",
       "7                        7.91                          11.87   \n",
       "8                        7.07                           9.91   \n",
       "9                        4.31                           6.86   \n",
       "\n",
       "   Cost Per Month - Premium ($)  \n",
       "0                          9.26  \n",
       "1                         16.39  \n",
       "2                         20.32  \n",
       "3                         20.32  \n",
       "4                         13.99  \n",
       "5                          9.96  \n",
       "6                         13.54  \n",
       "7                         15.03  \n",
       "8                         12.74  \n",
       "9                          9.93  "
      ]
     },
     "execution_count": 3,
     "metadata": {},
     "output_type": "execute_result"
    }
   ],
   "source": [
    "#Looking at data\n",
    "netflix_df.head(10)"
   ]
  },
  {
   "cell_type": "code",
   "execution_count": 4,
   "id": "7f5fedf7",
   "metadata": {
    "execution": {
     "iopub.execute_input": "2022-03-20T01:20:19.775150Z",
     "iopub.status.busy": "2022-03-20T01:20:19.774040Z",
     "iopub.status.idle": "2022-03-20T01:20:19.780386Z",
     "shell.execute_reply": "2022-03-20T01:20:19.781051Z",
     "shell.execute_reply.started": "2022-03-20T01:15:22.419468Z"
    },
    "papermill": {
     "duration": 0.030307,
     "end_time": "2022-03-20T01:20:19.781240",
     "exception": false,
     "start_time": "2022-03-20T01:20:19.750933",
     "status": "completed"
    },
    "tags": []
   },
   "outputs": [
    {
     "data": {
      "text/plain": [
       "Index(['Country_code', 'Country', 'Total Library Size', 'No. of TV Shows',\n",
       "       'No. of Movies', 'Cost Per Month - Basic ($)',\n",
       "       'Cost Per Month - Standard ($)', 'Cost Per Month - Premium ($)'],\n",
       "      dtype='object')"
      ]
     },
     "execution_count": 4,
     "metadata": {},
     "output_type": "execute_result"
    }
   ],
   "source": [
    "#columns of dataframe\n",
    "netflix_df.columns"
   ]
  },
  {
   "cell_type": "code",
   "execution_count": 5,
   "id": "01234801",
   "metadata": {
    "execution": {
     "iopub.execute_input": "2022-03-20T01:20:19.826379Z",
     "iopub.status.busy": "2022-03-20T01:20:19.825310Z",
     "iopub.status.idle": "2022-03-20T01:20:19.849999Z",
     "shell.execute_reply": "2022-03-20T01:20:19.850656Z",
     "shell.execute_reply.started": "2022-03-20T01:15:22.428472Z"
    },
    "papermill": {
     "duration": 0.049269,
     "end_time": "2022-03-20T01:20:19.850852",
     "exception": false,
     "start_time": "2022-03-20T01:20:19.801583",
     "status": "completed"
    },
    "tags": []
   },
   "outputs": [
    {
     "name": "stdout",
     "output_type": "stream",
     "text": [
      "<class 'pandas.core.frame.DataFrame'>\n",
      "RangeIndex: 65 entries, 0 to 64\n",
      "Data columns (total 8 columns):\n",
      " #   Column                         Non-Null Count  Dtype  \n",
      "---  ------                         --------------  -----  \n",
      " 0   Country_code                   65 non-null     object \n",
      " 1   Country                        65 non-null     object \n",
      " 2   Total Library Size             65 non-null     int64  \n",
      " 3   No. of TV Shows                65 non-null     int64  \n",
      " 4   No. of Movies                  65 non-null     int64  \n",
      " 5   Cost Per Month - Basic ($)     65 non-null     float64\n",
      " 6   Cost Per Month - Standard ($)  65 non-null     float64\n",
      " 7   Cost Per Month - Premium ($)   65 non-null     float64\n",
      "dtypes: float64(3), int64(3), object(2)\n",
      "memory usage: 4.2+ KB\n"
     ]
    }
   ],
   "source": [
    "#general dataframe info\n",
    "netflix_df.info()"
   ]
  },
  {
   "cell_type": "markdown",
   "id": "93a13e3c",
   "metadata": {
    "papermill": {
     "duration": 0.020449,
     "end_time": "2022-03-20T01:20:19.891928",
     "exception": false,
     "start_time": "2022-03-20T01:20:19.871479",
     "status": "completed"
    },
    "tags": []
   },
   "source": [
    "* 1) No null values in any column \n",
    "* 2) 3 int dtype columns(library size)\n",
    "* 3) 2 obj columns(country code and country name)\n",
    "* 4) 3 float columns(prices)\n"
   ]
  },
  {
   "cell_type": "code",
   "execution_count": 6,
   "id": "9b1520a6",
   "metadata": {
    "execution": {
     "iopub.execute_input": "2022-03-20T01:20:19.937632Z",
     "iopub.status.busy": "2022-03-20T01:20:19.936582Z",
     "iopub.status.idle": "2022-03-20T01:20:19.970628Z",
     "shell.execute_reply": "2022-03-20T01:20:19.971163Z",
     "shell.execute_reply.started": "2022-03-20T01:15:22.463004Z"
    },
    "papermill": {
     "duration": 0.058769,
     "end_time": "2022-03-20T01:20:19.971368",
     "exception": false,
     "start_time": "2022-03-20T01:20:19.912599",
     "status": "completed"
    },
    "tags": []
   },
   "outputs": [
    {
     "data": {
      "text/html": [
       "<div>\n",
       "<style scoped>\n",
       "    .dataframe tbody tr th:only-of-type {\n",
       "        vertical-align: middle;\n",
       "    }\n",
       "\n",
       "    .dataframe tbody tr th {\n",
       "        vertical-align: top;\n",
       "    }\n",
       "\n",
       "    .dataframe thead th {\n",
       "        text-align: right;\n",
       "    }\n",
       "</style>\n",
       "<table border=\"1\" class=\"dataframe\">\n",
       "  <thead>\n",
       "    <tr style=\"text-align: right;\">\n",
       "      <th></th>\n",
       "      <th>Total Library Size</th>\n",
       "      <th>No. of TV Shows</th>\n",
       "      <th>No. of Movies</th>\n",
       "      <th>Cost Per Month - Basic ($)</th>\n",
       "      <th>Cost Per Month - Standard ($)</th>\n",
       "      <th>Cost Per Month - Premium ($)</th>\n",
       "    </tr>\n",
       "  </thead>\n",
       "  <tbody>\n",
       "    <tr>\n",
       "      <th>count</th>\n",
       "      <td>65.000000</td>\n",
       "      <td>65.000000</td>\n",
       "      <td>65.000000</td>\n",
       "      <td>65.000000</td>\n",
       "      <td>65.000000</td>\n",
       "      <td>65.000000</td>\n",
       "    </tr>\n",
       "    <tr>\n",
       "      <th>mean</th>\n",
       "      <td>5314.415385</td>\n",
       "      <td>3518.953846</td>\n",
       "      <td>1795.461538</td>\n",
       "      <td>8.368462</td>\n",
       "      <td>11.990000</td>\n",
       "      <td>15.612923</td>\n",
       "    </tr>\n",
       "    <tr>\n",
       "      <th>std</th>\n",
       "      <td>980.322633</td>\n",
       "      <td>723.010556</td>\n",
       "      <td>327.279748</td>\n",
       "      <td>1.937819</td>\n",
       "      <td>2.863979</td>\n",
       "      <td>4.040672</td>\n",
       "    </tr>\n",
       "    <tr>\n",
       "      <th>min</th>\n",
       "      <td>2274.000000</td>\n",
       "      <td>1675.000000</td>\n",
       "      <td>373.000000</td>\n",
       "      <td>1.970000</td>\n",
       "      <td>3.000000</td>\n",
       "      <td>4.020000</td>\n",
       "    </tr>\n",
       "    <tr>\n",
       "      <th>25%</th>\n",
       "      <td>4948.000000</td>\n",
       "      <td>3154.000000</td>\n",
       "      <td>1628.000000</td>\n",
       "      <td>7.990000</td>\n",
       "      <td>10.710000</td>\n",
       "      <td>13.540000</td>\n",
       "    </tr>\n",
       "    <tr>\n",
       "      <th>50%</th>\n",
       "      <td>5195.000000</td>\n",
       "      <td>3512.000000</td>\n",
       "      <td>1841.000000</td>\n",
       "      <td>8.990000</td>\n",
       "      <td>11.490000</td>\n",
       "      <td>14.450000</td>\n",
       "    </tr>\n",
       "    <tr>\n",
       "      <th>75%</th>\n",
       "      <td>5952.000000</td>\n",
       "      <td>3832.000000</td>\n",
       "      <td>1980.000000</td>\n",
       "      <td>9.030000</td>\n",
       "      <td>13.540000</td>\n",
       "      <td>18.060000</td>\n",
       "    </tr>\n",
       "    <tr>\n",
       "      <th>max</th>\n",
       "      <td>7325.000000</td>\n",
       "      <td>5234.000000</td>\n",
       "      <td>2387.000000</td>\n",
       "      <td>12.880000</td>\n",
       "      <td>20.460000</td>\n",
       "      <td>26.960000</td>\n",
       "    </tr>\n",
       "  </tbody>\n",
       "</table>\n",
       "</div>"
      ],
      "text/plain": [
       "       Total Library Size  No. of TV Shows  No. of Movies  \\\n",
       "count           65.000000        65.000000      65.000000   \n",
       "mean          5314.415385      3518.953846    1795.461538   \n",
       "std            980.322633       723.010556     327.279748   \n",
       "min           2274.000000      1675.000000     373.000000   \n",
       "25%           4948.000000      3154.000000    1628.000000   \n",
       "50%           5195.000000      3512.000000    1841.000000   \n",
       "75%           5952.000000      3832.000000    1980.000000   \n",
       "max           7325.000000      5234.000000    2387.000000   \n",
       "\n",
       "       Cost Per Month - Basic ($)  Cost Per Month - Standard ($)  \\\n",
       "count                   65.000000                      65.000000   \n",
       "mean                     8.368462                      11.990000   \n",
       "std                      1.937819                       2.863979   \n",
       "min                      1.970000                       3.000000   \n",
       "25%                      7.990000                      10.710000   \n",
       "50%                      8.990000                      11.490000   \n",
       "75%                      9.030000                      13.540000   \n",
       "max                     12.880000                      20.460000   \n",
       "\n",
       "       Cost Per Month - Premium ($)  \n",
       "count                     65.000000  \n",
       "mean                      15.612923  \n",
       "std                        4.040672  \n",
       "min                        4.020000  \n",
       "25%                       13.540000  \n",
       "50%                       14.450000  \n",
       "75%                       18.060000  \n",
       "max                       26.960000  "
      ]
     },
     "execution_count": 6,
     "metadata": {},
     "output_type": "execute_result"
    }
   ],
   "source": [
    "#descrive dataframe\n",
    "netflix_df.describe()"
   ]
  },
  {
   "cell_type": "markdown",
   "id": "4f71c127",
   "metadata": {
    "papermill": {
     "duration": 0.021197,
     "end_time": "2022-03-20T01:20:20.014051",
     "exception": false,
     "start_time": "2022-03-20T01:20:19.992854",
     "status": "completed"
    },
    "tags": []
   },
   "source": [
    "* Min basic price: 1.97\n",
    "* Min standard price: 3.00\n",
    "* Min premium price: 4\n",
    "* Max basic price: 12.88\n",
    "* Max standard price: 20.46\n",
    "* Max premium price: 26.96\n"
   ]
  },
  {
   "cell_type": "code",
   "execution_count": 7,
   "id": "38379c3f",
   "metadata": {
    "execution": {
     "iopub.execute_input": "2022-03-20T01:20:20.064729Z",
     "iopub.status.busy": "2022-03-20T01:20:20.063967Z",
     "iopub.status.idle": "2022-03-20T01:20:20.068355Z",
     "shell.execute_reply": "2022-03-20T01:20:20.068946Z",
     "shell.execute_reply.started": "2022-03-20T01:15:22.496877Z"
    },
    "papermill": {
     "duration": 0.033696,
     "end_time": "2022-03-20T01:20:20.069132",
     "exception": false,
     "start_time": "2022-03-20T01:20:20.035436",
     "status": "completed"
    },
    "tags": []
   },
   "outputs": [
    {
     "data": {
      "text/plain": [
       "<bound method Series.unique of 0     ar\n",
       "1     au\n",
       "2     at\n",
       "3     be\n",
       "4     bo\n",
       "      ..\n",
       "60    ua\n",
       "61    gb\n",
       "62    us\n",
       "63    uy\n",
       "64    ve\n",
       "Name: Country_code, Length: 65, dtype: object>"
      ]
     },
     "execution_count": 7,
     "metadata": {},
     "output_type": "execute_result"
    }
   ],
   "source": [
    "#checking countries code too for extra assurance\n",
    "netflix_df['Country_code'].unique"
   ]
  },
  {
   "cell_type": "markdown",
   "id": "be5a2dc8",
   "metadata": {
    "papermill": {
     "duration": 0.021636,
     "end_time": "2022-03-20T01:20:20.112622",
     "exception": false,
     "start_time": "2022-03-20T01:20:20.090986",
     "status": "completed"
    },
    "tags": []
   },
   "source": [
    "So netflix operates in 65 unique countries worldwide out of 195. That's less than half of the total number of countries."
   ]
  },
  {
   "cell_type": "markdown",
   "id": "0913ccf9",
   "metadata": {
    "papermill": {
     "duration": 0.021579,
     "end_time": "2022-03-20T01:20:20.155983",
     "exception": false,
     "start_time": "2022-03-20T01:20:20.134404",
     "status": "completed"
    },
    "tags": []
   },
   "source": [
    "# **Do some data distributions now**"
   ]
  },
  {
   "cell_type": "code",
   "execution_count": 8,
   "id": "3c0b96c3",
   "metadata": {
    "execution": {
     "iopub.execute_input": "2022-03-20T01:20:20.210908Z",
     "iopub.status.busy": "2022-03-20T01:20:20.207904Z",
     "iopub.status.idle": "2022-03-20T01:20:21.249330Z",
     "shell.execute_reply": "2022-03-20T01:20:21.249920Z",
     "shell.execute_reply.started": "2022-03-20T01:15:22.508798Z"
    },
    "papermill": {
     "duration": 1.072361,
     "end_time": "2022-03-20T01:20:21.250111",
     "exception": false,
     "start_time": "2022-03-20T01:20:20.177750",
     "status": "completed"
    },
    "tags": []
   },
   "outputs": [
    {
     "data": {
      "image/png": "[encoded data removed]",
      "text/plain": [
       "<Figure size 1152x648 with 1 Axes>"
      ]
     },
     "metadata": {},
     "output_type": "display_data"
    }
   ],
   "source": [
    "plt.figure(figsize=(16,9))\n",
    "\n",
    "\n",
    "avg_basic= netflix_df.describe()['Cost Per Month - Basic ($)']['mean']\n",
    "avg_data_basic = np.array([avg_basic]*netflix_df.shape[0])\n",
    "\n",
    "avg_standard = netflix_df.describe()['Cost Per Month - Standard ($)']['mean']\n",
    "avg_data_standard = np.array([avg_standard]*netflix_df.shape[0])\n",
    "\n",
    "avg_premium = netflix_df.describe()['Cost Per Month - Premium ($)']['mean']\n",
    "avg_data_premium = np.array([avg_premium]*netflix_df.shape[0])\n",
    "\n",
    "plt.scatter(netflix_df['Country_code'],netflix_df['Cost Per Month - Basic ($)'],c='b',label='Basic price')\n",
    "#plt.plot(netflix_df['Country_code'],netflix_df['Cost Per Month - Basic ($)'],c='b',label='Basic price')\n",
    "plt.plot(netflix_df['Country_code'],avg_data_basic,label='Basic Mean', linestyle='--',c='b')\n",
    "\n",
    "plt.scatter(netflix_df['Country_code'],netflix_df['Cost Per Month - Standard ($)'],c='g',label='standard prices')\n",
    "#plt.plot(netflix_df['Country_code'],netflix_df['Cost Per Month - Standard ($)'],c='g', label='standard prices')\n",
    "plt.plot(netflix_df['Country_code'],avg_data_standard,label='Standard Mean', linestyle='--',c='g')\n",
    "\n",
    "plt.scatter(netflix_df['Country_code'],netflix_df['Cost Per Month - Premium ($)'],c='r',label='premium prices')\n",
    "#plt.plot(netflix_df['Country_code'],netflix_df['Cost Per Month - Premium ($)'],c='r',label='premium prices')\n",
    "plt.plot(netflix_df['Country_code'],avg_data_premium,label='Premium Mean', linestyle='--',c='r')\n",
    "\n",
    "plt.ylabel('Price')\n",
    "plt.xlabel('Countries')\n",
    "plt.legend()\n",
    "plt.show()"
   ]
  },
  {
   "cell_type": "markdown",
   "id": "0a71f058",
   "metadata": {
    "papermill": {
     "duration": 0.02706,
     "end_time": "2022-03-20T01:20:21.304953",
     "exception": false,
     "start_time": "2022-03-20T01:20:21.277893",
     "status": "completed"
    },
    "tags": []
   },
   "source": [
    "* Liechtenstein and switzerland have the highest premium prices\n",
    "* All plans for turkey are less than $5\n",
    "* Some premium prices for one country are less than the basic prices of others\n"
   ]
  },
  {
   "cell_type": "code",
   "execution_count": 9,
   "id": "dc2aa7b7",
   "metadata": {
    "execution": {
     "iopub.execute_input": "2022-03-20T01:20:21.362436Z",
     "iopub.status.busy": "2022-03-20T01:20:21.358284Z",
     "iopub.status.idle": "2022-03-20T01:20:22.230881Z",
     "shell.execute_reply": "2022-03-20T01:20:22.231468Z",
     "shell.execute_reply.started": "2022-03-20T01:15:23.407861Z"
    },
    "papermill": {
     "duration": 0.900306,
     "end_time": "2022-03-20T01:20:22.231677",
     "exception": false,
     "start_time": "2022-03-20T01:20:21.331371",
     "status": "completed"
    },
    "tags": []
   },
   "outputs": [
    {
     "data": {
      "image/png": "[encoded data removed]",
      "text/plain": [
       "<Figure size 1152x648 with 1 Axes>"
      ]
     },
     "metadata": {},
     "output_type": "display_data"
    }
   ],
   "source": [
    "#distribution of library size\n",
    "avg = netflix_df.describe()['Total Library Size']['mean']\n",
    "avg_data = np.array([avg]*netflix_df.shape[0])\n",
    "\n",
    "plt.figure(figsize=(16,9))\n",
    "plt.scatter(netflix_df['Country_code'],netflix_df['Total Library Size'],c='b')\n",
    "plt.plot(netflix_df['Country_code'],avg_data,label='Mean', linestyle='--')\n",
    "plt.legend()\n",
    "plt.title('Distribution of number of tv shows across all countries')\n",
    "plt.ylabel('Library size')\n",
    "plt.xlabel('country code')\n",
    "plt.show()"
   ]
  },
  {
   "cell_type": "code",
   "execution_count": 10,
   "id": "bd2e41c3",
   "metadata": {
    "execution": {
     "iopub.execute_input": "2022-03-20T01:20:22.284895Z",
     "iopub.status.busy": "2022-03-20T01:20:22.284181Z",
     "iopub.status.idle": "2022-03-20T01:20:22.611480Z",
     "shell.execute_reply": "2022-03-20T01:20:22.612177Z",
     "shell.execute_reply.started": "2022-03-20T01:16:40.381193Z"
    },
    "papermill": {
     "duration": 0.35573,
     "end_time": "2022-03-20T01:20:22.612367",
     "exception": false,
     "start_time": "2022-03-20T01:20:22.256637",
     "status": "completed"
    },
    "tags": []
   },
   "outputs": [
    {
     "data": {
      "image/png": "[encoded data removed]",
      "text/plain": [
       "<Figure size 432x288 with 2 Axes>"
      ]
     },
     "metadata": {},
     "output_type": "display_data"
    }
   ],
   "source": [
    "correlation = netflix_df.corr()\n",
    "hm = sns.heatmap(correlation)\n",
    "plt.show()"
   ]
  },
  {
   "cell_type": "markdown",
   "id": "754dd53d",
   "metadata": {
    "papermill": {
     "duration": 0.025722,
     "end_time": "2022-03-20T01:20:22.664283",
     "exception": false,
     "start_time": "2022-03-20T01:20:22.638561",
     "status": "completed"
    },
    "tags": []
   },
   "source": [
    "* total library size is highly correlated with no. of tv shows and no. of movies\n",
    "* cost per month basic is highly correlation with cost per month standard and cost per month premium\n"
   ]
  },
  {
   "cell_type": "code",
   "execution_count": null,
   "id": "8feba019",
   "metadata": {
    "papermill": {
     "duration": 0.025977,
     "end_time": "2022-03-20T01:20:22.717614",
     "exception": false,
     "start_time": "2022-03-20T01:20:22.691637",
     "status": "completed"
    },
    "tags": []
   },
   "outputs": [],
   "source": []
  }
 ],
 "metadata": {
  "kernelspec": {
   "display_name": "Python 3",
   "language": "python",
   "name": "python3"
  },
  "language_info": {
   "codemirror_mode": {
    "name": "ipython",
    "version": 3
   },
   "file_extension": ".py",
   "mimetype": "text/x-python",
   "name": "python",
   "nbconvert_exporter": "python",
   "pygments_lexer": "ipython3",
   "version": "3.7.12"
  },
  "papermill": {
   "default_parameters": {},
   "duration": 15.298972,
   "end_time": "2022-03-20T01:20:23.453380",
   "environment_variables": {},
   "exception": null,
   "input_path": "__notebook__.ipynb",
   "output_path": "__notebook__.ipynb",
   "parameters": {},
   "start_time": "2022-03-20T01:20:08.154408",
   "version": "2.3.3"
  }
 },
 "nbformat": 4,
 "nbformat_minor": 5
}
